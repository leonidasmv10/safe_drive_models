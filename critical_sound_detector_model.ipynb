{
 "cells": [
  {
   "cell_type": "code",
   "execution_count": 1,
   "id": "56ae304e",
   "metadata": {},
   "outputs": [
    {
     "name": "stdout",
     "output_type": "stream",
     "text": [
      "WARNING:tensorflow:From c:\\Users\\yordy\\Documents\\dev\\bootcamp\\inteligencia_artificial\\fundacion_esplai\\safe_drive\\safe_drive_models\\env\\Lib\\site-packages\\tf_keras\\src\\losses.py:2976: The name tf.losses.sparse_softmax_cross_entropy is deprecated. Please use tf.compat.v1.losses.sparse_softmax_cross_entropy instead.\n",
      "\n"
     ]
    }
   ],
   "source": [
    "import tensorflow as tf\n",
    "import tensorflow_hub as hub\n",
    "import numpy as np\n",
    "import librosa\n",
    "import os\n",
    "import random\n",
    "from audiomentations import (\n",
    "    Compose,\n",
    "    AddGaussianNoise,\n",
    "    TimeStretch,\n",
    "    PitchShift,\n",
    "    Shift,\n",
    "    ClippingDistortion,\n",
    ")\n",
    "from sklearn.preprocessing import LabelEncoder\n",
    "from sklearn.model_selection import train_test_split\n",
    "from sklearn.utils.class_weight import compute_class_weight\n",
    "from tensorflow.keras.models import Sequential\n",
    "from tensorflow.keras.layers import Dense, Dropout, BatchNormalization\n",
    "from tensorflow.keras import layers\n",
    "from tensorflow.keras.callbacks import EarlyStopping, ReduceLROnPlateau\n",
    "import matplotlib.pyplot as plt"
   ]
  },
  {
   "cell_type": "code",
   "execution_count": null,
   "id": "5b429487",
   "metadata": {},
   "outputs": [
    {
     "name": "stdout",
     "output_type": "stream",
     "text": [
      "WARNING:tensorflow:From c:\\Users\\yordy\\Documents\\dev\\bootcamp\\inteligencia_artificial\\fundacion_esplai\\safe_drive\\safe_drive_models\\env\\Lib\\site-packages\\tensorflow_hub\\resolver.py:120: The name tf.gfile.MakeDirs is deprecated. Please use tf.io.gfile.makedirs instead.\n",
      "\n"
     ]
    },
    {
     "name": "stderr",
     "output_type": "stream",
     "text": [
      "WARNING:tensorflow:From c:\\Users\\yordy\\Documents\\dev\\bootcamp\\inteligencia_artificial\\fundacion_esplai\\safe_drive\\safe_drive_models\\env\\Lib\\site-packages\\tensorflow_hub\\resolver.py:120: The name tf.gfile.MakeDirs is deprecated. Please use tf.io.gfile.makedirs instead.\n",
      "\n"
     ]
    },
    {
     "name": "stdout",
     "output_type": "stream",
     "text": [
      "WARNING:tensorflow:From c:\\Users\\yordy\\Documents\\dev\\bootcamp\\inteligencia_artificial\\fundacion_esplai\\safe_drive\\safe_drive_models\\env\\Lib\\site-packages\\tensorflow_hub\\module_v2.py:126: The name tf.saved_model.load_v2 is deprecated. Please use tf.compat.v2.saved_model.load instead.\n",
      "\n"
     ]
    },
    {
     "name": "stderr",
     "output_type": "stream",
     "text": [
      "WARNING:tensorflow:From c:\\Users\\yordy\\Documents\\dev\\bootcamp\\inteligencia_artificial\\fundacion_esplai\\safe_drive\\safe_drive_models\\env\\Lib\\site-packages\\tensorflow_hub\\module_v2.py:126: The name tf.saved_model.load_v2 is deprecated. Please use tf.compat.v2.saved_model.load instead.\n",
      "\n"
     ]
    }
   ],
   "source": [
    "# Cargar YAMNet\n",
    "yamnet_model = hub.load('https://tfhub.dev/google/yamnet/1')"
   ]
  },
  {
   "cell_type": "code",
   "execution_count": null,
   "id": "c513e16b",
   "metadata": {},
   "outputs": [],
   "source": [
    "# Definir augmentador\n",
    "augmenter = Compose(\n",
    "    [\n",
    "        AddGaussianNoise(min_amplitude=0.001, max_amplitude=0.015, p=0.7),\n",
    "        TimeStretch(min_rate=0.8, max_rate=1.2, p=0.5),\n",
    "        PitchShift(min_semitones=-2, max_semitones=2, p=0.5),\n",
    "        Shift(min_shift=-0.2, max_shift=0.2, p=0.5),\n",
    "        ClippingDistortion(\n",
    "            min_percentile_threshold=0, max_percentile_threshold=40, p=0.3\n",
    "        ),\n",
    "    ]\n",
    ")"
   ]
  },
  {
   "cell_type": "code",
   "execution_count": null,
   "id": "49e4eb57",
   "metadata": {},
   "outputs": [],
   "source": [
    "# Función para cargar y procesar audio\n",
    "def process_audio(path):\n",
    "    audio, sample_rate = librosa.load(path, sr=16000)\n",
    "    _, embeddings, _ = yamnet_model(audio)\n",
    "    average_embedding = tf.reduce_mean(embeddings, axis=0)\n",
    "    return average_embedding.numpy()"
   ]
  },
  {
   "cell_type": "code",
   "execution_count": null,
   "id": "c72434df",
   "metadata": {},
   "outputs": [],
   "source": [
    "# Función para hacer data augmentation\n",
    "def augment_audio(audio):\n",
    "    audio_augmented = augmenter(samples=audio, sample_rate=16000)\n",
    "    _, embeddings, _ = yamnet_model(audio_augmented)\n",
    "    average_embedding = tf.reduce_mean(embeddings, axis=0)\n",
    "    return average_embedding.numpy()"
   ]
  },
  {
   "cell_type": "code",
   "execution_count": null,
   "id": "ea774e34",
   "metadata": {},
   "outputs": [],
   "source": [
    "# Procesar audios\n",
    "data_path = \"datasets/custom\"\n",
    "class_count = {}\n",
    "X = []\n",
    "y = []"
   ]
  },
  {
   "cell_type": "code",
   "execution_count": 7,
   "id": "ecfbe28c",
   "metadata": {},
   "outputs": [
    {
     "name": "stdout",
     "output_type": "stream",
     "text": [
      "Cantidad de audios por clase: {'car_horn': 1009, 'siren': 2223, 'unknown': 10255}\n"
     ]
    }
   ],
   "source": [
    "# Primera pasada: contar audios originales\n",
    "for category in os.listdir(data_path):\n",
    "    category_folder = os.path.join(data_path, category)\n",
    "    if not os.path.isdir(category_folder):\n",
    "        continue\n",
    "    if category == \"unknown\":\n",
    "        total_unknown = 0\n",
    "        for subfolder in os.listdir(category_folder):\n",
    "            subclass_folder = os.path.join(category_folder, subfolder)\n",
    "            if not os.path.isdir(subclass_folder):\n",
    "                continue\n",
    "            total_unknown += len(\n",
    "                [f for f in os.listdir(subclass_folder) if f.endswith(\".wav\")]\n",
    "            )\n",
    "        class_count[\"unknown\"] = total_unknown\n",
    "    else:\n",
    "        class_count[category] = len(\n",
    "            [f for f in os.listdir(category_folder) if f.endswith(\".wav\")]\n",
    "        )\n",
    "\n",
    "print(\"Cantidad de audios por clase:\", class_count)"
   ]
  },
  {
   "cell_type": "code",
   "execution_count": 8,
   "id": "4c4dbf3e",
   "metadata": {},
   "outputs": [],
   "source": [
    "# Segunda pasada: cargar audios + augmentar los que necesitan\n",
    "for category in os.listdir(data_path):\n",
    "    category_folder = os.path.join(data_path, category)\n",
    "    if not os.path.isdir(category_folder):\n",
    "        continue\n",
    "    if category == \"unknown\":\n",
    "        for subfolder in os.listdir(category_folder):\n",
    "            subclass_folder = os.path.join(category_folder, subfolder)\n",
    "            if not os.path.isdir(subclass_folder):\n",
    "                continue\n",
    "            for file in os.listdir(subclass_folder):\n",
    "                if file.endswith(\".wav\"):\n",
    "                    audio_path = os.path.join(subclass_folder, file)\n",
    "                    embedding = process_audio(audio_path)\n",
    "                    X.append(embedding)\n",
    "                    y.append(\"unknown\")\n",
    "    else:\n",
    "        files = [f for f in os.listdir(category_folder) if f.endswith(\".wav\")]\n",
    "        target = class_count[\"unknown\"]  # Queremos acercarnos a unknown\n",
    "        times = target // class_count[category]  # Cuántas veces duplicar\n",
    "\n",
    "        for file in files:\n",
    "            audio_path = os.path.join(category_folder, file)\n",
    "            audio, sr = librosa.load(audio_path, sr=16000)\n",
    "\n",
    "            # Audio original\n",
    "            embedding = process_audio(audio_path)\n",
    "            X.append(embedding)\n",
    "            y.append(category)\n",
    "\n",
    "            # Generar augmentations\n",
    "            for _ in range(times - 1):  # Ya tenemos el original, por eso -1\n",
    "                emb_aug = augment_audio(audio)\n",
    "                X.append(emb_aug)\n",
    "                y.append(category)"
   ]
  },
  {
   "cell_type": "code",
   "execution_count": 9,
   "id": "8f4d7929",
   "metadata": {},
   "outputs": [
    {
     "name": "stdout",
     "output_type": "stream",
     "text": [
      "Shape de X: (29237, 1024)\n",
      "Cantidad de labels: 29237\n"
     ]
    }
   ],
   "source": [
    "# Convertir a arrays\n",
    "X = np.array(X)\n",
    "y = np.array(y)\n",
    "\n",
    "print(\"Shape de X:\", X.shape)\n",
    "print(\"Cantidad de labels:\", len(y))"
   ]
  },
  {
   "cell_type": "code",
   "execution_count": 10,
   "id": "462b7b33",
   "metadata": {},
   "outputs": [
    {
     "name": "stdout",
     "output_type": "stream",
     "text": [
      "\n",
      "✅ Class distribution in the dataset:\n",
      "========================================\n",
      "unknown: 10255 samples (35.08%)\n",
      "car_horn: 10090 samples (34.51%)\n",
      "siren: 8892 samples (30.41%)\n",
      "========================================\n"
     ]
    }
   ],
   "source": [
    "from collections import Counter\n",
    "\n",
    "# Contar cuántos elementos hay en cada clase\n",
    "class_count = Counter(y)\n",
    "\n",
    "# Calcular el total de muestras\n",
    "total_samples = sum(class_count.values())\n",
    "\n",
    "# Ordenar de mayor a menor\n",
    "sorted_classes = sorted(class_count.items(), key=lambda x: x[1], reverse=True)\n",
    "\n",
    "# Mostrar el resultado con porcentajes\n",
    "print(\"\\n✅ Class distribution in the dataset:\")\n",
    "print(\"=\" * 40)\n",
    "for category, count in sorted_classes:\n",
    "    percentage = (count / total_samples) * 100\n",
    "    print(f\"{category}: {count} samples ({percentage:.2f}%)\")\n",
    "print(\"=\" * 40)"
   ]
  },
  {
   "cell_type": "code",
   "execution_count": 11,
   "id": "af282d10",
   "metadata": {},
   "outputs": [],
   "source": [
    "# Codificar etiquetas\n",
    "le = LabelEncoder()\n",
    "y_encoded = le.fit_transform(y)"
   ]
  },
  {
   "cell_type": "code",
   "execution_count": 12,
   "id": "506c7cb8",
   "metadata": {},
   "outputs": [],
   "source": [
    "# Dividir en train y test\n",
    "X_train, X_test, y_train, y_test = train_test_split(\n",
    "    X, y_encoded, test_size=0.2, stratify=y_encoded, random_state=42\n",
    ")"
   ]
  },
  {
   "cell_type": "code",
   "execution_count": 13,
   "id": "0a53d050",
   "metadata": {},
   "outputs": [
    {
     "name": "stdout",
     "output_type": "stream",
     "text": [
      "Pesos de clases: {0: 0.9658490254377271, 1: 1.096068231875908, 2: 0.9503087924589632}\n"
     ]
    }
   ],
   "source": [
    "# Calcular pesos de clases\n",
    "class_weights = compute_class_weight(class_weight=\"balanced\", classes=np.unique(y_train), y=y_train)\n",
    "class_weights = dict(enumerate(class_weights))\n",
    "\n",
    "print(\"Pesos de clases:\", class_weights)"
   ]
  },
  {
   "cell_type": "code",
   "execution_count": null,
   "id": "1b15b49d",
   "metadata": {},
   "outputs": [
    {
     "name": "stderr",
     "output_type": "stream",
     "text": [
      "c:\\Users\\yordy\\Documents\\dev\\bootcamp\\inteligencia_artificial\\fundacion_esplai\\safe_drive\\safe_drive_models\\env\\Lib\\site-packages\\keras\\src\\layers\\core\\dense.py:87: UserWarning: Do not pass an `input_shape`/`input_dim` argument to a layer. When using Sequential models, prefer using an `Input(shape)` object as the first layer in the model instead.\n",
      "  super().__init__(activity_regularizer=activity_regularizer, **kwargs)\n"
     ]
    }
   ],
   "source": [
    "num_classes = len(np.unique(y_encoded))\n",
    "\n",
    "model = Sequential(\n",
    "    [\n",
    "        Dense(256, activation=\"relu\", input_shape=(1024,)),\n",
    "        BatchNormalization(),\n",
    "        Dropout(0.3),\n",
    "        Dense(128, activation=\"relu\"),\n",
    "        BatchNormalization(),\n",
    "        Dropout(0.3),\n",
    "        Dense(num_classes, activation=\"softmax\"),\n",
    "    ]\n",
    ")\n",
    "\n",
    "model.compile(\n",
    "    optimizer=\"adam\", loss=\"sparse_categorical_crossentropy\", metrics=[\"accuracy\"]\n",
    ")\n",
    "\n",
    "early_stop = EarlyStopping(\n",
    "    monitor=\"val_loss\",\n",
    "    patience=7,\n",
    "    restore_best_weights=True,\n",
    "    verbose=1,\n",
    ")\n",
    "\n",
    "reduce_lr = ReduceLROnPlateau(\n",
    "    monitor=\"val_loss\",\n",
    "    factor=0.5,\n",
    "    patience=3,\n",
    "    min_lr=1e-6,\n",
    "    verbose=1,\n",
    ")"
   ]
  },
  {
   "cell_type": "code",
   "execution_count": 15,
   "id": "58efe77e",
   "metadata": {},
   "outputs": [
    {
     "name": "stdout",
     "output_type": "stream",
     "text": [
      "Epoch 1/100\n",
      "\u001b[1m585/585\u001b[0m \u001b[32m━━━━━━━━━━━━━━━━━━━━\u001b[0m\u001b[37m\u001b[0m \u001b[1m8s\u001b[0m 9ms/step - accuracy: 0.8566 - loss: 0.4102 - val_accuracy: 0.9359 - val_loss: 0.1998 - learning_rate: 0.0010\n",
      "Epoch 2/100\n",
      "\u001b[1m585/585\u001b[0m \u001b[32m━━━━━━━━━━━━━━━━━━━━\u001b[0m\u001b[37m\u001b[0m \u001b[1m4s\u001b[0m 7ms/step - accuracy: 0.9187 - loss: 0.2251 - val_accuracy: 0.9414 - val_loss: 0.1636 - learning_rate: 0.0010\n",
      "Epoch 3/100\n",
      "\u001b[1m585/585\u001b[0m \u001b[32m━━━━━━━━━━━━━━━━━━━━\u001b[0m\u001b[37m\u001b[0m \u001b[1m4s\u001b[0m 7ms/step - accuracy: 0.9380 - loss: 0.1708 - val_accuracy: 0.9519 - val_loss: 0.1542 - learning_rate: 0.0010\n",
      "Epoch 4/100\n",
      "\u001b[1m585/585\u001b[0m \u001b[32m━━━━━━━━━━━━━━━━━━━━\u001b[0m\u001b[37m\u001b[0m \u001b[1m5s\u001b[0m 8ms/step - accuracy: 0.9409 - loss: 0.1621 - val_accuracy: 0.9504 - val_loss: 0.1405 - learning_rate: 0.0010\n",
      "Epoch 5/100\n",
      "\u001b[1m585/585\u001b[0m \u001b[32m━━━━━━━━━━━━━━━━━━━━\u001b[0m\u001b[37m\u001b[0m \u001b[1m5s\u001b[0m 8ms/step - accuracy: 0.9442 - loss: 0.1499 - val_accuracy: 0.9496 - val_loss: 0.1482 - learning_rate: 0.0010\n",
      "Epoch 6/100\n",
      "\u001b[1m585/585\u001b[0m \u001b[32m━━━━━━━━━━━━━━━━━━━━\u001b[0m\u001b[37m\u001b[0m \u001b[1m5s\u001b[0m 8ms/step - accuracy: 0.9505 - loss: 0.1468 - val_accuracy: 0.9558 - val_loss: 0.1273 - learning_rate: 0.0010\n",
      "Epoch 7/100\n",
      "\u001b[1m585/585\u001b[0m \u001b[32m━━━━━━━━━━━━━━━━━━━━\u001b[0m\u001b[37m\u001b[0m \u001b[1m5s\u001b[0m 8ms/step - accuracy: 0.9492 - loss: 0.1366 - val_accuracy: 0.9442 - val_loss: 0.1435 - learning_rate: 0.0010\n",
      "Epoch 8/100\n",
      "\u001b[1m585/585\u001b[0m \u001b[32m━━━━━━━━━━━━━━━━━━━━\u001b[0m\u001b[37m\u001b[0m \u001b[1m4s\u001b[0m 8ms/step - accuracy: 0.9548 - loss: 0.1258 - val_accuracy: 0.9523 - val_loss: 0.1451 - learning_rate: 0.0010\n",
      "Epoch 9/100\n",
      "\u001b[1m585/585\u001b[0m \u001b[32m━━━━━━━━━━━━━━━━━━━━\u001b[0m\u001b[37m\u001b[0m \u001b[1m4s\u001b[0m 7ms/step - accuracy: 0.9567 - loss: 0.1191 - val_accuracy: 0.9609 - val_loss: 0.1108 - learning_rate: 0.0010\n",
      "Epoch 10/100\n",
      "\u001b[1m585/585\u001b[0m \u001b[32m━━━━━━━━━━━━━━━━━━━━\u001b[0m\u001b[37m\u001b[0m \u001b[1m4s\u001b[0m 7ms/step - accuracy: 0.9586 - loss: 0.1138 - val_accuracy: 0.9587 - val_loss: 0.1100 - learning_rate: 0.0010\n",
      "Epoch 11/100\n",
      "\u001b[1m585/585\u001b[0m \u001b[32m━━━━━━━━━━━━━━━━━━━━\u001b[0m\u001b[37m\u001b[0m \u001b[1m4s\u001b[0m 7ms/step - accuracy: 0.9601 - loss: 0.1058 - val_accuracy: 0.9637 - val_loss: 0.1091 - learning_rate: 0.0010\n",
      "Epoch 12/100\n",
      "\u001b[1m585/585\u001b[0m \u001b[32m━━━━━━━━━━━━━━━━━━━━\u001b[0m\u001b[37m\u001b[0m \u001b[1m4s\u001b[0m 7ms/step - accuracy: 0.9628 - loss: 0.1046 - val_accuracy: 0.9622 - val_loss: 0.1024 - learning_rate: 0.0010\n",
      "Epoch 13/100\n",
      "\u001b[1m585/585\u001b[0m \u001b[32m━━━━━━━━━━━━━━━━━━━━\u001b[0m\u001b[37m\u001b[0m \u001b[1m5s\u001b[0m 8ms/step - accuracy: 0.9636 - loss: 0.1011 - val_accuracy: 0.9581 - val_loss: 0.1235 - learning_rate: 0.0010\n",
      "Epoch 14/100\n",
      "\u001b[1m585/585\u001b[0m \u001b[32m━━━━━━━━━━━━━━━━━━━━\u001b[0m\u001b[37m\u001b[0m \u001b[1m4s\u001b[0m 7ms/step - accuracy: 0.9619 - loss: 0.0988 - val_accuracy: 0.9624 - val_loss: 0.1029 - learning_rate: 0.0010\n",
      "Epoch 15/100\n",
      "\u001b[1m577/585\u001b[0m \u001b[32m━━━━━━━━━━━━━━━━━━━\u001b[0m\u001b[37m━\u001b[0m \u001b[1m0s\u001b[0m 6ms/step - accuracy: 0.9651 - loss: 0.0928\n",
      "Epoch 15: ReduceLROnPlateau reducing learning rate to 0.0005000000237487257.\n",
      "\u001b[1m585/585\u001b[0m \u001b[32m━━━━━━━━━━━━━━━━━━━━\u001b[0m\u001b[37m\u001b[0m \u001b[1m4s\u001b[0m 7ms/step - accuracy: 0.9651 - loss: 0.0929 - val_accuracy: 0.9600 - val_loss: 0.1056 - learning_rate: 0.0010\n",
      "Epoch 16/100\n",
      "\u001b[1m585/585\u001b[0m \u001b[32m━━━━━━━━━━━━━━━━━━━━\u001b[0m\u001b[37m\u001b[0m \u001b[1m4s\u001b[0m 7ms/step - accuracy: 0.9692 - loss: 0.0859 - val_accuracy: 0.9692 - val_loss: 0.0895 - learning_rate: 5.0000e-04\n",
      "Epoch 17/100\n",
      "\u001b[1m585/585\u001b[0m \u001b[32m━━━━━━━━━━━━━━━━━━━━\u001b[0m\u001b[37m\u001b[0m \u001b[1m5s\u001b[0m 8ms/step - accuracy: 0.9757 - loss: 0.0707 - val_accuracy: 0.9699 - val_loss: 0.0845 - learning_rate: 5.0000e-04\n",
      "Epoch 18/100\n",
      "\u001b[1m585/585\u001b[0m \u001b[32m━━━━━━━━━━━━━━━━━━━━\u001b[0m\u001b[37m\u001b[0m \u001b[1m5s\u001b[0m 8ms/step - accuracy: 0.9765 - loss: 0.0673 - val_accuracy: 0.9707 - val_loss: 0.0802 - learning_rate: 5.0000e-04\n",
      "Epoch 19/100\n",
      "\u001b[1m585/585\u001b[0m \u001b[32m━━━━━━━━━━━━━━━━━━━━\u001b[0m\u001b[37m\u001b[0m \u001b[1m5s\u001b[0m 8ms/step - accuracy: 0.9740 - loss: 0.0729 - val_accuracy: 0.9726 - val_loss: 0.0813 - learning_rate: 5.0000e-04\n",
      "Epoch 20/100\n",
      "\u001b[1m585/585\u001b[0m \u001b[32m━━━━━━━━━━━━━━━━━━━━\u001b[0m\u001b[37m\u001b[0m \u001b[1m5s\u001b[0m 8ms/step - accuracy: 0.9781 - loss: 0.0617 - val_accuracy: 0.9707 - val_loss: 0.0867 - learning_rate: 5.0000e-04\n",
      "Epoch 21/100\n",
      "\u001b[1m583/585\u001b[0m \u001b[32m━━━━━━━━━━━━━━━━━━━\u001b[0m\u001b[37m━\u001b[0m \u001b[1m0s\u001b[0m 7ms/step - accuracy: 0.9763 - loss: 0.0663\n",
      "Epoch 21: ReduceLROnPlateau reducing learning rate to 0.0002500000118743628.\n",
      "\u001b[1m585/585\u001b[0m \u001b[32m━━━━━━━━━━━━━━━━━━━━\u001b[0m\u001b[37m\u001b[0m \u001b[1m5s\u001b[0m 8ms/step - accuracy: 0.9763 - loss: 0.0663 - val_accuracy: 0.9705 - val_loss: 0.0824 - learning_rate: 5.0000e-04\n",
      "Epoch 22/100\n",
      "\u001b[1m585/585\u001b[0m \u001b[32m━━━━━━━━━━━━━━━━━━━━\u001b[0m\u001b[37m\u001b[0m \u001b[1m5s\u001b[0m 8ms/step - accuracy: 0.9822 - loss: 0.0500 - val_accuracy: 0.9733 - val_loss: 0.0786 - learning_rate: 2.5000e-04\n",
      "Epoch 23/100\n",
      "\u001b[1m585/585\u001b[0m \u001b[32m━━━━━━━━━━━━━━━━━━━━\u001b[0m\u001b[37m\u001b[0m \u001b[1m5s\u001b[0m 8ms/step - accuracy: 0.9830 - loss: 0.0523 - val_accuracy: 0.9750 - val_loss: 0.0809 - learning_rate: 2.5000e-04\n",
      "Epoch 24/100\n",
      "\u001b[1m585/585\u001b[0m \u001b[32m━━━━━━━━━━━━━━━━━━━━\u001b[0m\u001b[37m\u001b[0m \u001b[1m5s\u001b[0m 8ms/step - accuracy: 0.9861 - loss: 0.0398 - val_accuracy: 0.9752 - val_loss: 0.0790 - learning_rate: 2.5000e-04\n",
      "Epoch 25/100\n",
      "\u001b[1m585/585\u001b[0m \u001b[32m━━━━━━━━━━━━━━━━━━━━\u001b[0m\u001b[37m\u001b[0m \u001b[1m0s\u001b[0m 7ms/step - accuracy: 0.9858 - loss: 0.0415\n",
      "Epoch 25: ReduceLROnPlateau reducing learning rate to 0.0001250000059371814.\n",
      "\u001b[1m585/585\u001b[0m \u001b[32m━━━━━━━━━━━━━━━━━━━━\u001b[0m\u001b[37m\u001b[0m \u001b[1m5s\u001b[0m 8ms/step - accuracy: 0.9858 - loss: 0.0415 - val_accuracy: 0.9758 - val_loss: 0.0806 - learning_rate: 2.5000e-04\n",
      "Epoch 26/100\n",
      "\u001b[1m585/585\u001b[0m \u001b[32m━━━━━━━━━━━━━━━━━━━━\u001b[0m\u001b[37m\u001b[0m \u001b[1m5s\u001b[0m 8ms/step - accuracy: 0.9879 - loss: 0.0389 - val_accuracy: 0.9778 - val_loss: 0.0764 - learning_rate: 1.2500e-04\n",
      "Epoch 27/100\n",
      "\u001b[1m585/585\u001b[0m \u001b[32m━━━━━━━━━━━━━━━━━━━━\u001b[0m\u001b[37m\u001b[0m \u001b[1m5s\u001b[0m 8ms/step - accuracy: 0.9886 - loss: 0.0369 - val_accuracy: 0.9767 - val_loss: 0.0734 - learning_rate: 1.2500e-04\n",
      "Epoch 28/100\n",
      "\u001b[1m585/585\u001b[0m \u001b[32m━━━━━━━━━━━━━━━━━━━━\u001b[0m\u001b[37m\u001b[0m \u001b[1m5s\u001b[0m 8ms/step - accuracy: 0.9895 - loss: 0.0333 - val_accuracy: 0.9776 - val_loss: 0.0727 - learning_rate: 1.2500e-04\n",
      "Epoch 29/100\n",
      "\u001b[1m585/585\u001b[0m \u001b[32m━━━━━━━━━━━━━━━━━━━━\u001b[0m\u001b[37m\u001b[0m \u001b[1m5s\u001b[0m 8ms/step - accuracy: 0.9895 - loss: 0.0309 - val_accuracy: 0.9782 - val_loss: 0.0740 - learning_rate: 1.2500e-04\n",
      "Epoch 30/100\n",
      "\u001b[1m585/585\u001b[0m \u001b[32m━━━━━━━━━━━━━━━━━━━━\u001b[0m\u001b[37m\u001b[0m \u001b[1m5s\u001b[0m 8ms/step - accuracy: 0.9883 - loss: 0.0326 - val_accuracy: 0.9769 - val_loss: 0.0793 - learning_rate: 1.2500e-04\n",
      "Epoch 31/100\n",
      "\u001b[1m585/585\u001b[0m \u001b[32m━━━━━━━━━━━━━━━━━━━━\u001b[0m\u001b[37m\u001b[0m \u001b[1m0s\u001b[0m 6ms/step - accuracy: 0.9892 - loss: 0.0307\n",
      "Epoch 31: ReduceLROnPlateau reducing learning rate to 6.25000029685907e-05.\n",
      "\u001b[1m585/585\u001b[0m \u001b[32m━━━━━━━━━━━━━━━━━━━━\u001b[0m\u001b[37m\u001b[0m \u001b[1m4s\u001b[0m 7ms/step - accuracy: 0.9892 - loss: 0.0307 - val_accuracy: 0.9765 - val_loss: 0.0768 - learning_rate: 1.2500e-04\n",
      "Epoch 32/100\n",
      "\u001b[1m585/585\u001b[0m \u001b[32m━━━━━━━━━━━━━━━━━━━━\u001b[0m\u001b[37m\u001b[0m \u001b[1m4s\u001b[0m 8ms/step - accuracy: 0.9904 - loss: 0.0295 - val_accuracy: 0.9773 - val_loss: 0.0769 - learning_rate: 6.2500e-05\n",
      "Epoch 33/100\n",
      "\u001b[1m585/585\u001b[0m \u001b[32m━━━━━━━━━━━━━━━━━━━━\u001b[0m\u001b[37m\u001b[0m \u001b[1m5s\u001b[0m 8ms/step - accuracy: 0.9911 - loss: 0.0269 - val_accuracy: 0.9780 - val_loss: 0.0754 - learning_rate: 6.2500e-05\n",
      "Epoch 34/100\n",
      "\u001b[1m582/585\u001b[0m \u001b[32m━━━━━━━━━━━━━━━━━━━\u001b[0m\u001b[37m━\u001b[0m \u001b[1m0s\u001b[0m 6ms/step - accuracy: 0.9907 - loss: 0.0266\n",
      "Epoch 34: ReduceLROnPlateau reducing learning rate to 3.125000148429535e-05.\n",
      "\u001b[1m585/585\u001b[0m \u001b[32m━━━━━━━━━━━━━━━━━━━━\u001b[0m\u001b[37m\u001b[0m \u001b[1m4s\u001b[0m 7ms/step - accuracy: 0.9907 - loss: 0.0266 - val_accuracy: 0.9788 - val_loss: 0.0756 - learning_rate: 6.2500e-05\n",
      "Epoch 35/100\n",
      "\u001b[1m585/585\u001b[0m \u001b[32m━━━━━━━━━━━━━━━━━━━━\u001b[0m\u001b[37m\u001b[0m \u001b[1m5s\u001b[0m 8ms/step - accuracy: 0.9915 - loss: 0.0269 - val_accuracy: 0.9793 - val_loss: 0.0750 - learning_rate: 3.1250e-05\n",
      "Epoch 35: early stopping\n",
      "Restoring model weights from the end of the best epoch: 28.\n"
     ]
    }
   ],
   "source": [
    "history = model.fit(\n",
    "    X_train,\n",
    "    y_train,\n",
    "    epochs=100,\n",
    "    validation_split=0.2,\n",
    "    batch_size=32,\n",
    "    callbacks=[early_stop, reduce_lr],\n",
    "    class_weight=class_weights,\n",
    ")"
   ]
  },
  {
   "cell_type": "code",
   "execution_count": 16,
   "id": "f76f8ae5",
   "metadata": {},
   "outputs": [
    {
     "name": "stdout",
     "output_type": "stream",
     "text": [
      "Test accuracy: 0.9746922254562378\n"
     ]
    }
   ],
   "source": [
    "score = model.evaluate(X_test, y_test, verbose=0)\n",
    "print(\"Test accuracy:\", score[1])"
   ]
  },
  {
   "cell_type": "code",
   "execution_count": 17,
   "id": "1ba97625",
   "metadata": {},
   "outputs": [
    {
     "data": {
      "image/png": "[encoded data removed]",
      "text/plain": [
       "<Figure size 640x480 with 1 Axes>"
      ]
     },
     "metadata": {},
     "output_type": "display_data"
    }
   ],
   "source": [
    "#  Graficar pérdidas y accuracy\n",
    "plt.plot(history.history[\"accuracy\"], label=\"Train Acc\")\n",
    "plt.plot(history.history[\"val_accuracy\"], label=\"Val Acc\")\n",
    "plt.xlabel(\"Epochs\")\n",
    "plt.ylabel(\"Accuracy\")\n",
    "plt.legend()\n",
    "plt.grid()\n",
    "plt.show()"
   ]
  },
  {
   "cell_type": "code",
   "execution_count": 18,
   "id": "cefa238d",
   "metadata": {},
   "outputs": [],
   "source": [
    "def predict_audio(audio_path):\n",
    "    audio, _ = librosa.load(audio_path, sr=16000)\n",
    "    _, embeddings, _ = yamnet_model(audio)\n",
    "    average_embedding = tf.reduce_mean(embeddings, axis=0).numpy()\n",
    "\n",
    "    # Predict with Keras model\n",
    "    predictions = model.predict(np.array([average_embedding]))[0]\n",
    "    sorted_indices = np.argsort(predictions)[::-1]\n",
    "\n",
    "    print(sorted_indices)\n",
    "    print(f\"\\n🔊 Prediction for: {audio_path}\")\n",
    "    for i in sorted_indices:\n",
    "        category = le.classes_[i]\n",
    "        probability = predictions[i] * 100\n",
    "        print(f\"{category}: {probability:.2f}%\")"
   ]
  },
  {
   "cell_type": "code",
   "execution_count": 29,
   "id": "100259be",
   "metadata": {},
   "outputs": [
    {
     "name": "stdout",
     "output_type": "stream",
     "text": [
      "\u001b[1m1/1\u001b[0m \u001b[32m━━━━━━━━━━━━━━━━━━━━\u001b[0m\u001b[37m\u001b[0m \u001b[1m0s\u001b[0m 70ms/step\n",
      "[1 0 2]\n",
      "\n",
      "🔊 Prediction for: audio_test/firetruck_2.wav\n",
      "siren: 99.99%\n",
      "car_horn: 0.00%\n",
      "unknown: 0.00%\n"
     ]
    }
   ],
   "source": [
    "predict_audio(\"audio_test/firetruck_2.wav\")\n",
    "# predict_audio(\"audio_test.wav\")"
   ]
  },
  {
   "cell_type": "code",
   "execution_count": 20,
   "id": "6d0ffa94",
   "metadata": {},
   "outputs": [
    {
     "name": "stderr",
     "output_type": "stream",
     "text": [
      "WARNING:absl:You are saving your model as an HDF5 file via `model.save()` or `keras.saving.save_model(model)`. This file format is considered legacy. We recommend using instead the native Keras format, e.g. `model.save('my_model.keras')` or `keras.saving.save_model(model, 'my_model.keras')`. \n"
     ]
    }
   ],
   "source": [
    "model.save(\"critical_sound_detector_model.h5\")"
   ]
  },
  {
   "cell_type": "code",
   "execution_count": 21,
   "id": "75078eb3",
   "metadata": {},
   "outputs": [
    {
     "name": "stdout",
     "output_type": "stream",
     "text": [
      "\u001b[1m183/183\u001b[0m \u001b[32m━━━━━━━━━━━━━━━━━━━━\u001b[0m\u001b[37m\u001b[0m \u001b[1m1s\u001b[0m 3ms/step\n"
     ]
    },
    {
     "data": {
      "image/png": "[encoded data removed]",
      "text/plain": [
       "<Figure size 800x600 with 2 Axes>"
      ]
     },
     "metadata": {},
     "output_type": "display_data"
    }
   ],
   "source": [
    "from sklearn.metrics import confusion_matrix, ConfusionMatrixDisplay\n",
    "\n",
    "# 1. Predecir en los datos de test\n",
    "y_pred = model.predict(X_test)\n",
    "y_pred_classes = np.argmax(y_pred, axis=1)\n",
    "\n",
    "# 2. Generar la matriz de confusión\n",
    "cm = confusion_matrix(y_test, y_pred_classes)\n",
    "\n",
    "# 3. Mostrar la matriz con etiquetas\n",
    "labels = le.classes_\n",
    "\n",
    "fig, ax = plt.subplots(figsize=(8, 6))\n",
    "disp = ConfusionMatrixDisplay(confusion_matrix=cm, display_labels=labels)\n",
    "disp.plot(\n",
    "    cmap=plt.cm.Blues, ax=ax, values_format=\"d\"\n",
    ")  # 'd' para mostrar números enteros\n",
    "plt.title(\"Matriz de Confusión\")\n",
    "plt.show()"
   ]
  },
  {
   "cell_type": "code",
   "execution_count": 22,
   "id": "a9c3dd17",
   "metadata": {},
   "outputs": [
    {
     "data": {
      "image/png": "[encoded data removed]",
      "text/plain": [
       "<Figure size 800x600 with 2 Axes>"
      ]
     },
     "metadata": {},
     "output_type": "display_data"
    }
   ],
   "source": [
    "from sklearn.metrics import confusion_matrix, ConfusionMatrixDisplay\n",
    "import matplotlib.pyplot as plt\n",
    "import numpy as np\n",
    "\n",
    "# Calcular la matriz de confusión\n",
    "cm = confusion_matrix(y_test, y_pred_classes)\n",
    "\n",
    "# Normalizar manualmente\n",
    "cm_normalized = cm.astype(\"float\") / cm.sum(axis=1)[:, np.newaxis]\n",
    "\n",
    "# Crear la figura\n",
    "fig, ax = plt.subplots(figsize=(8, 6))\n",
    "\n",
    "# Mostrar la matriz normalizada\n",
    "disp = ConfusionMatrixDisplay(\n",
    "    confusion_matrix=cm_normalized, display_labels=le.classes_\n",
    ")\n",
    "disp.plot(\n",
    "    cmap=plt.cm.Blues, ax=ax, values_format=\".2f\"\n",
    ")  # AHORA sí puedes usar values_format\n",
    "\n",
    "plt.title(\"Matriz de Confusión Normalizada\")\n",
    "plt.show()"
   ]
  },
  {
   "cell_type": "code",
   "execution_count": 23,
   "id": "f6191505",
   "metadata": {},
   "outputs": [
    {
     "name": "stdout",
     "output_type": "stream",
     "text": [
      "\u001b[1m183/183\u001b[0m \u001b[32m━━━━━━━━━━━━━━━━━━━━\u001b[0m\u001b[37m\u001b[0m \u001b[1m1s\u001b[0m 3ms/step\n",
      "\n",
      "✅ Reporte de Clasificación en Test:\n"
     ]
    },
    {
     "data": {
      "text/html": [
       "<style type=\"text/css\">\n",
       "#T_f2789_row0_col0, #T_f2789_row0_col2, #T_f2789_row2_col1, #T_f2789_row3_col3 {\n",
       "  background-color: #f7fcf5;\n",
       "  color: #000000;\n",
       "}\n",
       "#T_f2789_row0_col1 {\n",
       "  background-color: #eff9eb;\n",
       "  color: #000000;\n",
       "}\n",
       "#T_f2789_row0_col3 {\n",
       "  background-color: #aadda4;\n",
       "  color: #000000;\n",
       "}\n",
       "#T_f2789_row1_col0, #T_f2789_row1_col1, #T_f2789_row1_col2, #T_f2789_row4_col3, #T_f2789_row5_col3 {\n",
       "  background-color: #00441b;\n",
       "  color: #f1f1f1;\n",
       "}\n",
       "#T_f2789_row1_col3 {\n",
       "  background-color: #b7e2b1;\n",
       "  color: #000000;\n",
       "}\n",
       "#T_f2789_row2_col0 {\n",
       "  background-color: #c2e7bb;\n",
       "  color: #000000;\n",
       "}\n",
       "#T_f2789_row2_col2 {\n",
       "  background-color: #eff9ec;\n",
       "  color: #000000;\n",
       "}\n",
       "#T_f2789_row2_col3 {\n",
       "  background-color: #a9dca3;\n",
       "  color: #000000;\n",
       "}\n",
       "#T_f2789_row3_col0 {\n",
       "  background-color: #98d594;\n",
       "  color: #000000;\n",
       "}\n",
       "#T_f2789_row3_col1, #T_f2789_row3_col2, #T_f2789_row5_col1 {\n",
       "  background-color: #b0dfaa;\n",
       "  color: #000000;\n",
       "}\n",
       "#T_f2789_row4_col0 {\n",
       "  background-color: #90d18d;\n",
       "  color: #000000;\n",
       "}\n",
       "#T_f2789_row4_col1, #T_f2789_row4_col2 {\n",
       "  background-color: #a8dca2;\n",
       "  color: #000000;\n",
       "}\n",
       "#T_f2789_row5_col0 {\n",
       "  background-color: #99d595;\n",
       "  color: #000000;\n",
       "}\n",
       "#T_f2789_row5_col2 {\n",
       "  background-color: #b1e0ab;\n",
       "  color: #000000;\n",
       "}\n",
       "</style>\n",
       "<table id=\"T_f2789\">\n",
       "  <thead>\n",
       "    <tr>\n",
       "      <th class=\"blank level0\" >&nbsp;</th>\n",
       "      <th id=\"T_f2789_level0_col0\" class=\"col_heading level0 col0\" >precision</th>\n",
       "      <th id=\"T_f2789_level0_col1\" class=\"col_heading level0 col1\" >recall</th>\n",
       "      <th id=\"T_f2789_level0_col2\" class=\"col_heading level0 col2\" >f1-score</th>\n",
       "      <th id=\"T_f2789_level0_col3\" class=\"col_heading level0 col3\" >support</th>\n",
       "    </tr>\n",
       "  </thead>\n",
       "  <tbody>\n",
       "    <tr>\n",
       "      <th id=\"T_f2789_level0_row0\" class=\"row_heading level0 row0\" >car_horn</th>\n",
       "      <td id=\"T_f2789_row0_col0\" class=\"data row0 col0\" >0.97</td>\n",
       "      <td id=\"T_f2789_row0_col1\" class=\"data row0 col1\" >0.97</td>\n",
       "      <td id=\"T_f2789_row0_col2\" class=\"data row0 col2\" >0.97</td>\n",
       "      <td id=\"T_f2789_row0_col3\" class=\"data row0 col3\" >2018.000000</td>\n",
       "    </tr>\n",
       "    <tr>\n",
       "      <th id=\"T_f2789_level0_row1\" class=\"row_heading level0 row1\" >siren</th>\n",
       "      <td id=\"T_f2789_row1_col0\" class=\"data row1 col0\" >0.98</td>\n",
       "      <td id=\"T_f2789_row1_col1\" class=\"data row1 col1\" >0.99</td>\n",
       "      <td id=\"T_f2789_row1_col2\" class=\"data row1 col2\" >0.98</td>\n",
       "      <td id=\"T_f2789_row1_col3\" class=\"data row1 col3\" >1779.000000</td>\n",
       "    </tr>\n",
       "    <tr>\n",
       "      <th id=\"T_f2789_level0_row2\" class=\"row_heading level0 row2\" >unknown</th>\n",
       "      <td id=\"T_f2789_row2_col0\" class=\"data row2 col0\" >0.97</td>\n",
       "      <td id=\"T_f2789_row2_col1\" class=\"data row2 col1\" >0.97</td>\n",
       "      <td id=\"T_f2789_row2_col2\" class=\"data row2 col2\" >0.97</td>\n",
       "      <td id=\"T_f2789_row2_col3\" class=\"data row2 col3\" >2051.000000</td>\n",
       "    </tr>\n",
       "    <tr>\n",
       "      <th id=\"T_f2789_level0_row3\" class=\"row_heading level0 row3\" >accuracy</th>\n",
       "      <td id=\"T_f2789_row3_col0\" class=\"data row3 col0\" >0.97</td>\n",
       "      <td id=\"T_f2789_row3_col1\" class=\"data row3 col1\" >0.97</td>\n",
       "      <td id=\"T_f2789_row3_col2\" class=\"data row3 col2\" >0.97</td>\n",
       "      <td id=\"T_f2789_row3_col3\" class=\"data row3 col3\" >0.974692</td>\n",
       "    </tr>\n",
       "    <tr>\n",
       "      <th id=\"T_f2789_level0_row4\" class=\"row_heading level0 row4\" >macro avg</th>\n",
       "      <td id=\"T_f2789_row4_col0\" class=\"data row4 col0\" >0.97</td>\n",
       "      <td id=\"T_f2789_row4_col1\" class=\"data row4 col1\" >0.98</td>\n",
       "      <td id=\"T_f2789_row4_col2\" class=\"data row4 col2\" >0.98</td>\n",
       "      <td id=\"T_f2789_row4_col3\" class=\"data row4 col3\" >5848.000000</td>\n",
       "    </tr>\n",
       "    <tr>\n",
       "      <th id=\"T_f2789_level0_row5\" class=\"row_heading level0 row5\" >weighted avg</th>\n",
       "      <td id=\"T_f2789_row5_col0\" class=\"data row5 col0\" >0.97</td>\n",
       "      <td id=\"T_f2789_row5_col1\" class=\"data row5 col1\" >0.97</td>\n",
       "      <td id=\"T_f2789_row5_col2\" class=\"data row5 col2\" >0.97</td>\n",
       "      <td id=\"T_f2789_row5_col3\" class=\"data row5 col3\" >5848.000000</td>\n",
       "    </tr>\n",
       "  </tbody>\n",
       "</table>\n"
      ],
      "text/plain": [
       "<pandas.io.formats.style.Styler at 0x289e4a75550>"
      ]
     },
     "metadata": {},
     "output_type": "display_data"
    }
   ],
   "source": [
    "from sklearn.metrics import classification_report\n",
    "import pandas as pd\n",
    "\n",
    "# Predicción\n",
    "y_pred = model.predict(X_test)\n",
    "y_pred_classes = np.argmax(y_pred, axis=1)\n",
    "\n",
    "# Classification report en formato dict\n",
    "reporte_dict = classification_report(\n",
    "    y_test, y_pred_classes, target_names=le.classes_, output_dict=True\n",
    ")\n",
    "\n",
    "# Lo pasamos a DataFrame\n",
    "df_reporte = pd.DataFrame(reporte_dict).transpose()\n",
    "\n",
    "# Mostrar\n",
    "print(\"\\n✅ Reporte de Clasificación en Test:\")\n",
    "display(\n",
    "    df_reporte.style.background_gradient(cmap=\"Greens\").format(\n",
    "        {\"precision\": \"{:.2f}\", \"recall\": \"{:.2f}\", \"f1-score\": \"{:.2f}\"}\n",
    "    )\n",
    ")"
   ]
  }
 ],
 "metadata": {
  "kernelspec": {
   "display_name": "env",
   "language": "python",
   "name": "python3"
  },
  "language_info": {
   "codemirror_mode": {
    "name": "ipython",
    "version": 3
   },
   "file_extension": ".py",
   "mimetype": "text/x-python",
   "name": "python",
   "nbconvert_exporter": "python",
   "pygments_lexer": "ipython3",
   "version": "3.11.9"
  }
 },
 "nbformat": 4,
 "nbformat_minor": 5
}
