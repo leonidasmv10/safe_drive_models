{
 "cells": [
  {
   "cell_type": "markdown",
   "metadata": {},
   "source": [
    "# Descripción del Dataset ESC-50\n",
    "\n",
    "El dataset **ESC-50** es un conjunto de datos de clasificación de sonidos ambientales que contiene 2,000 clips de audio de 5 segundos, organizados en 50 categorías balanceadas. Se usa comúnmente para tareas de clasificación de audio y reconocimiento de eventos sonoros.\n",
    "\n",
    "## Tabla de Datos\n",
    "\n",
    "| Columna   | Tipo de Dato | Descripción |\n",
    "|-----------|-------------|-------------|\n",
    "| `filename` | `object` | Nombre del archivo de sonido (formato .wav). |\n",
    "| `fold` | `int64` | Número de fold asignado para validación cruzada (1-5). |\n",
    "| `target` | `int64` | Etiqueta numérica de la categoría del sonido (0-49). |\n",
    "| `category` | `object` | Nombre de la categoría de sonido (ej. \"dog\", \"siren\", \"thunderstorm\"). |\n",
    "| `esc10` | `bool` | Indica si el sonido pertenece a la versión reducida ESC-10 (`True` o `False`). |\n",
    "| `src_file` | `int64` | Identificador del archivo fuente original del sonido. |\n",
    "| `take` | `object` | Versión de la grabación de un mismo sonido (ej. \"A\", \"B\"). |\n",
    "\n",
    "## Observaciones Clave\n",
    "\n",
    "- El dataset está balanceado con aproximadamente la misma cantidad de muestras por categoría.\n",
    "- Se divide en **5 folds** para facilitar validación cruzada.\n",
    "- Algunas categorías incluyen sonidos relevantes para el proyecto, como **bocinas, sirenas o ruidos de tráfico**.\n",
    "- No hay una correlación fuerte entre las variables numéricas (`fold`, `target`, `src_file`).\n",
    "- La distribución de sonidos por `fold` es uniforme, lo que evita sesgos en la validación del modelo.\n",
    "\n",
    "Este dataset puede ser utilizado para entrenar un modelo de **detección de sonidos críticos para conductores con discapacidad auditiva** mediante técnicas de aprendizaje profundo, como redes neuronales convolucionales (CNNs) aplicadas a espectrogramas de audio.\n",
    "\n",
    "---\n"
   ]
  },
  {
   "cell_type": "code",
   "execution_count": 1,
   "metadata": {},
   "outputs": [],
   "source": [
    "import pandas as pd\n",
    "import matplotlib.pyplot as plt\n",
    "import seaborn as sns\n",
    "import os\n",
    "import shutil"
   ]
  },
  {
   "cell_type": "code",
   "execution_count": 3,
   "metadata": {},
   "outputs": [],
   "source": [
    "file_path = \"datasets/ESC-50/meta/esc50.csv\"\n",
    "audio_folder = \"datasets/ESC-50/audio\"\n",
    "\n",
    "\n",
    "df = pd.read_csv(file_path)\n",
    "# Carpeta de salida donde se copiarán los audios organizados\n",
    "output_folder = \"datasets/ESC-50/extract\"\n",
    "os.makedirs(output_folder, exist_ok=True)"
   ]
  },
  {
   "cell_type": "code",
   "execution_count": 4,
   "metadata": {},
   "outputs": [
    {
     "name": "stdout",
     "output_type": "stream",
     "text": [
      "\n",
      "Información General del Dataset\n",
      "<class 'pandas.core.frame.DataFrame'>\n",
      "RangeIndex: 2000 entries, 0 to 1999\n",
      "Data columns (total 7 columns):\n",
      " #   Column    Non-Null Count  Dtype \n",
      "---  ------    --------------  ----- \n",
      " 0   filename  2000 non-null   object\n",
      " 1   fold      2000 non-null   int64 \n",
      " 2   target    2000 non-null   int64 \n",
      " 3   category  2000 non-null   object\n",
      " 4   esc10     2000 non-null   bool  \n",
      " 5   src_file  2000 non-null   int64 \n",
      " 6   take      2000 non-null   object\n",
      "dtypes: bool(1), int64(3), object(3)\n",
      "memory usage: 95.8+ KB\n",
      "None\n"
     ]
    }
   ],
   "source": [
    "print(\"\\nInformación General del Dataset\")\n",
    "print(df.info())"
   ]
  },
  {
   "cell_type": "code",
   "execution_count": 6,
   "metadata": {},
   "outputs": [
    {
     "name": "stdout",
     "output_type": "stream",
     "text": [
      "\n",
      "Primeras Filas del Dataset\n",
      "            filename  fold  target        category  esc10  src_file take\n",
      "0   1-100032-A-0.wav     1       0             dog   True    100032    A\n",
      "1  1-100038-A-14.wav     1      14  chirping_birds  False    100038    A\n",
      "2  1-100210-A-36.wav     1      36  vacuum_cleaner  False    100210    A\n",
      "3  1-100210-B-36.wav     1      36  vacuum_cleaner  False    100210    B\n",
      "4  1-101296-A-19.wav     1      19    thunderstorm  False    101296    A\n"
     ]
    }
   ],
   "source": [
    "print(\"\\nPrimeras Filas del Dataset\")\n",
    "print(df.head())"
   ]
  },
  {
   "cell_type": "code",
   "execution_count": 5,
   "metadata": {},
   "outputs": [
    {
     "name": "stdout",
     "output_type": "stream",
     "text": [
      "✅ Copia completada. Número de archivos por categoría:\n",
      "- dog: 40 audios\n",
      "- chirping_birds: 40 audios\n",
      "- vacuum_cleaner: 40 audios\n",
      "- thunderstorm: 40 audios\n",
      "- door_wood_knock: 40 audios\n",
      "- can_opening: 40 audios\n",
      "- crow: 40 audios\n",
      "- clapping: 40 audios\n",
      "- fireworks: 40 audios\n",
      "- chainsaw: 40 audios\n",
      "- airplane: 40 audios\n",
      "- mouse_click: 40 audios\n",
      "- pouring_water: 40 audios\n",
      "- train: 40 audios\n",
      "- sheep: 40 audios\n",
      "- water_drops: 40 audios\n",
      "- church_bells: 40 audios\n",
      "- clock_alarm: 40 audios\n",
      "- keyboard_typing: 40 audios\n",
      "- wind: 40 audios\n",
      "- footsteps: 40 audios\n",
      "- frog: 40 audios\n",
      "- cow: 40 audios\n",
      "- brushing_teeth: 40 audios\n",
      "- car_horn: 40 audios\n",
      "- crackling_fire: 40 audios\n",
      "- helicopter: 40 audios\n",
      "- drinking_sipping: 40 audios\n",
      "- rain: 40 audios\n",
      "- insects: 40 audios\n",
      "- laughing: 40 audios\n",
      "- hen: 40 audios\n",
      "- engine: 40 audios\n",
      "- breathing: 40 audios\n",
      "- crying_baby: 40 audios\n",
      "- hand_saw: 40 audios\n",
      "- coughing: 40 audios\n",
      "- glass_breaking: 40 audios\n",
      "- snoring: 40 audios\n",
      "- toilet_flush: 40 audios\n",
      "- pig: 40 audios\n",
      "- washing_machine: 40 audios\n",
      "- clock_tick: 40 audios\n",
      "- sneezing: 40 audios\n",
      "- rooster: 40 audios\n",
      "- sea_waves: 40 audios\n",
      "- siren: 40 audios\n",
      "- cat: 40 audios\n",
      "- door_wood_creaks: 40 audios\n",
      "- crickets: 40 audios\n"
     ]
    }
   ],
   "source": [
    "# Diccionario para contar archivos por categoría\n",
    "category_counts = {}\n",
    "\n",
    "# Recorrer cada fila del dataset\n",
    "for index, row in df.iterrows():\n",
    "    file_name = row[\"filename\"]  # Nombre del archivo de audio\n",
    "    class_label = row[\"category\"]  # Categoría del sonido\n",
    "\n",
    "    # Crear carpeta para la clase si no existe\n",
    "    class_folder = os.path.join(output_folder, class_label)\n",
    "    os.makedirs(class_folder, exist_ok=True)\n",
    "\n",
    "    # Construir ruta origen y destino\n",
    "    src_path = os.path.join(audio_folder, file_name)\n",
    "    dest_path = os.path.join(class_folder, file_name)\n",
    "\n",
    "    # Copiar el archivo si existe\n",
    "    if os.path.exists(src_path):\n",
    "        shutil.copy(src_path, dest_path)\n",
    "        category_counts[class_label] = category_counts.get(class_label, 0) + 1\n",
    "\n",
    "# Mostrar el resultado final\n",
    "print(\"✅ Copia completada. Número de archivos por categoría:\")\n",
    "for category, count in category_counts.items():\n",
    "    print(f\"- {category}: {count} audios\")"
   ]
  }
 ],
 "metadata": {
  "kernelspec": {
   "display_name": "env",
   "language": "python",
   "name": "python3"
  },
  "language_info": {
   "codemirror_mode": {
    "name": "ipython",
    "version": 3
   },
   "file_extension": ".py",
   "mimetype": "text/x-python",
   "name": "python",
   "nbconvert_exporter": "python",
   "pygments_lexer": "ipython3",
   "version": "3.11.9"
  }
 },
 "nbformat": 4,
 "nbformat_minor": 2
}
