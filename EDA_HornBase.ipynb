{
 "cells": [
  {
   "cell_type": "code",
   "execution_count": 1,
   "id": "31030d67",
   "metadata": {},
   "outputs": [],
   "source": [
    "import pandas as pd\n",
    "import shutil\n",
    "import os"
   ]
  },
  {
   "cell_type": "code",
   "execution_count": null,
   "id": "e5f39cfe",
   "metadata": {},
   "outputs": [],
   "source": [
    "# Paths\n",
    "csv_path = \"datasets/HornBase - A Car Horns Dataset/hornbase.csv\"\n",
    "audio_folder = \"datasets/HornBase - A Car Horns Dataset/Dataset\"\n",
    "output_horns = \"datasets/HornBase - A Car Horns Dataset/extract/car_horn\"\n",
    "output_unknown = \"datasets/HornBase - A Car Horns Dataset/extract/unknown\""
   ]
  },
  {
   "cell_type": "code",
   "execution_count": null,
   "id": "b6a20372",
   "metadata": {},
   "outputs": [],
   "source": [
    "# Crear carpetas de destino si no existen\n",
    "os.makedirs(output_horns, exist_ok=True)\n",
    "os.makedirs(output_unknown, exist_ok=True)"
   ]
  },
  {
   "cell_type": "code",
   "execution_count": 4,
   "id": "c7968cfd",
   "metadata": {},
   "outputs": [
    {
     "name": "stdout",
     "output_type": "stream",
     "text": [
      "Primeras filas del CSV:\n",
      "            file     class  class number\n",
      "0   C_10_A_L.wav      horn             1\n",
      "1  C_10_A_L_.wav      horn             1\n",
      "2  C_10_A_N1.wav  not-horn             0\n",
      "3  C_10_A_N2.wav  not-horn             0\n",
      "4  C_10_A_N3.wav  not-horn             0\n",
      "\n",
      "Conteo por clase:\n",
      "class\n",
      "horn        540\n",
      "not-horn    540\n",
      "Name: count, dtype: int64\n"
     ]
    }
   ],
   "source": [
    "# Leer CSV\n",
    "df = pd.read_csv(csv_path)\n",
    "\n",
    "# EDA Básico\n",
    "print(\"Primeras filas del CSV:\")\n",
    "print(df.head())\n",
    "\n",
    "print(\"\\nConteo por clase:\")\n",
    "print(df['class'].value_counts())"
   ]
  },
  {
   "cell_type": "code",
   "execution_count": null,
   "id": "1a57221d",
   "metadata": {},
   "outputs": [
    {
     "name": "stdout",
     "output_type": "stream",
     "text": [
      "\n",
      "✅ Archivos copiados exitosamente.\n"
     ]
    }
   ],
   "source": [
    "# Separar y copiar archivos\n",
    "for idx, row in df.iterrows():\n",
    "    src_path = os.path.join(audio_folder, row['file'])\n",
    "    \n",
    "    if row['class'] == 'horn':\n",
    "        dst_path = os.path.join(output_horns, row['file'])\n",
    "    else:\n",
    "        dst_path = os.path.join(output_unknown, row['file'])\n",
    "    \n",
    "    if os.path.exists(src_path):\n",
    "        shutil.copy2(src_path, dst_path)\n",
    "    else:\n",
    "        print(f\"Archivo no encontrado: {src_path}\")\n",
    "\n",
    "print(\"\\n✅ Archivos copiados exitosamente.\")"
   ]
  }
 ],
 "metadata": {
  "kernelspec": {
   "display_name": "env",
   "language": "python",
   "name": "python3"
  },
  "language_info": {
   "codemirror_mode": {
    "name": "ipython",
    "version": 3
   },
   "file_extension": ".py",
   "mimetype": "text/x-python",
   "name": "python",
   "nbconvert_exporter": "python",
   "pygments_lexer": "ipython3",
   "version": "3.11.9"
  }
 },
 "nbformat": 4,
 "nbformat_minor": 5
}
