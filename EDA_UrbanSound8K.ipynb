{
 "cells": [
  {
   "cell_type": "markdown",
   "metadata": {},
   "source": [
    "# SafeDrive AI"
   ]
  },
  {
   "cell_type": "markdown",
   "metadata": {},
   "source": [
    "# 📊 Análisis del Dataset UrbanSound8K\n",
    "\n",
    "El dataset **UrbanSound8K** contiene metadatos de fragmentos de audio clasificados en diferentes categorías de sonidos urbanos.\n",
    "\n",
    "## 📌 **Estructura del Dataset**\n",
    "El dataset contiene las siguientes columnas:\n",
    "\n",
    "| **Columna**        | **Descripción** |\n",
    "|--------------------|---------------|\n",
    "| `slice_file_name`  | Nombre del archivo de audio. |\n",
    "| `fsID`            | ID del archivo original en Freesound. |\n",
    "| `start` & `end`   | Tiempos de inicio y fin del fragmento dentro del audio original. |\n",
    "| `salience`        | 1 = Sonido en primer plano, 2 = Sonido de fondo. |\n",
    "| `fold`            | Número de \"fold\" para validación cruzada. |\n",
    "| `classID`         | ID de la clase de sonido (0-9). |\n",
    "| `class`           | Nombre de la clase de sonido (Ej: `siren`, `car_horn`). |\n",
    "\n",
    "---\n",
    "\n",
    "## 🎯 **Etiquetas de Clases en UrbanSound8K**\n",
    "El dataset contiene **10 categorías de sonidos urbanos**:\n",
    "\n",
    "| `classID` | **Clase de Sonido**       |\n",
    "|-----------|--------------------------|\n",
    "| 0         | air_conditioner          |\n",
    "| 1         | car_horn                 |\n",
    "| 2         | children_playing         |\n",
    "| 3         | dog_bark                 |\n",
    "| 4         | drilling                 |\n",
    "| 5         | engine_idling            |\n",
    "| 6         | gun_shot                 |\n",
    "| 7         | jackhammer               |\n",
    "| 8         | siren                    |\n",
    "| 9         | street_music             |\n",
    "\n",
    "📌 **Ejemplo de nombres de archivos en el dataset:**\n"
   ]
  },
  {
   "cell_type": "code",
   "execution_count": 1,
   "metadata": {},
   "outputs": [],
   "source": [
    "import matplotlib.pyplot as plt\n",
    "import numpy as np\n",
    "import pandas as pd\n",
    "import os\n",
    "import shutil"
   ]
  },
  {
   "cell_type": "code",
   "execution_count": 2,
   "metadata": {},
   "outputs": [],
   "source": [
    "# Ruta del dataset\n",
    "base_path = \"datasets/UrbanSound8K/\"\n",
    "csv_path = os.path.join(base_path, \"UrbanSound8K.csv\")\n",
    "\n",
    "# Leer el CSV\n",
    "df = pd.read_csv(csv_path)\n",
    "\n",
    "# Carpeta de salida donde se copiarán los audios organizados\n",
    "output_folder = \"datasets/UrbanSound8K/extract/\"\n",
    "os.makedirs(output_folder, exist_ok=True)"
   ]
  },
  {
   "cell_type": "code",
   "execution_count": 3,
   "metadata": {},
   "outputs": [
    {
     "name": "stdout",
     "output_type": "stream",
     "text": [
      "✅ Copia completada. Número de archivos por categoría:\n",
      "- dog_bark: 1000 audios\n",
      "- children_playing: 1000 audios\n",
      "- car_horn: 429 audios\n",
      "- air_conditioner: 1000 audios\n",
      "- street_music: 1000 audios\n",
      "- gun_shot: 374 audios\n",
      "- siren: 929 audios\n",
      "- engine_idling: 1000 audios\n",
      "- jackhammer: 1000 audios\n",
      "- drilling: 1000 audios\n"
     ]
    }
   ],
   "source": [
    "# Diccionario para contar archivos por categoría\n",
    "category_counts = {}\n",
    "\n",
    "# Recorrer cada fila del dataset\n",
    "for index, row in df.iterrows():\n",
    "    file_name = row[\"slice_file_name\"]  # Nombre del archivo de audio\n",
    "    folder_id = row[\"fold\"]  # Número de carpeta original\n",
    "    class_label = row[\"class\"]  # Nombre de la categoría\n",
    "\n",
    "    # Crear carpeta para la clase si no existe\n",
    "    class_folder = os.path.join(output_folder, class_label)\n",
    "    os.makedirs(class_folder, exist_ok=True)\n",
    "\n",
    "    # Construir ruta origen y destino\n",
    "    src_path = os.path.join(base_path, f\"fold{folder_id}\", file_name)\n",
    "    dest_path = os.path.join(class_folder, file_name)\n",
    "\n",
    "    # Copiar el archivo si existe\n",
    "    if os.path.exists(src_path):\n",
    "        shutil.copy(src_path, dest_path)\n",
    "        category_counts[class_label] = category_counts.get(class_label, 0) + 1\n",
    "\n",
    "# Mostrar el resultado final\n",
    "print(\"✅ Copia completada. Número de archivos por categoría:\")\n",
    "for category, count in category_counts.items():\n",
    "    print(f\"- {category}: {count} audios\")"
   ]
  }
 ],
 "metadata": {
  "kernelspec": {
   "display_name": "env",
   "language": "python",
   "name": "python3"
  },
  "language_info": {
   "codemirror_mode": {
    "name": "ipython",
    "version": 3
   },
   "file_extension": ".py",
   "mimetype": "text/x-python",
   "name": "python",
   "nbconvert_exporter": "python",
   "pygments_lexer": "ipython3",
   "version": "3.11.9"
  }
 },
 "nbformat": 4,
 "nbformat_minor": 2
}
